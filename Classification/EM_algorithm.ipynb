{
 "cells": [
  {
   "cell_type": "markdown",
   "metadata": {},
   "source": [
    "## EM algorithm for classification"
   ]
  },
  {
   "cell_type": "code",
   "execution_count": 1,
   "metadata": {},
   "outputs": [],
   "source": [
    "import pandas as pd\n",
    "import numpy as np\n",
    "import random\n",
    "import scipy.stats\n",
    "import matplotlib.pyplot as plt"
   ]
  },
  {
   "cell_type": "code",
   "execution_count": 2,
   "metadata": {},
   "outputs": [],
   "source": [
    "Xtrain = pd.read_csv('data/Xtrain.csv',header = None)\n",
    "ytrain = pd.read_csv('data/ytrain.csv',header = None)\n",
    "ytrain = ytrain.rename(columns={0:'y'})\n",
    "train_data = pd.concat([Xtrain,ytrain],axis=1)\n",
    "train0 = train_data[train_data['y']==0].reset_index().drop(['index'],axis=1)\n",
    "train1 = train_data[train_data['y']==1].reset_index().drop(['index'],axis=1)\n",
    "Xtrain0 = train0.iloc[:,0:10]\n",
    "Xtrain1 = train1.iloc[:,0:10]\n",
    "mu0 = Xtrain0.mean(axis=0)\n",
    "mu1 = Xtrain1.mean(axis=0)"
   ]
  },
  {
   "cell_type": "code",
   "execution_count": 3,
   "metadata": {},
   "outputs": [],
   "source": [
    "def rand_init(k):\n",
    "    sample0 = np.random.multivariate_normal(mu0,Xtrain0.cov(),10)\n",
    "    sample1 = np.random.multivariate_normal(mu1,Xtrain1.cov(),10)\n",
    "    mean0 = []\n",
    "    mean1 = []\n",
    "    cov0 = []\n",
    "    cov1 = []\n",
    "    for i in range(0,k):\n",
    "        mean0.append(sample0[random.randint(0,9)])\n",
    "        mean1.append(sample1[random.randint(0,9)])\n",
    "        cov0.append(Xtrain0.cov())\n",
    "        cov1.append(Xtrain1.cov())\n",
    "\n",
    "    return mean0, mean1, cov0, cov1"
   ]
  },
  {
   "cell_type": "markdown",
   "metadata": {},
   "source": [
    "## E step optimized"
   ]
  },
  {
   "cell_type": "code",
   "execution_count": 4,
   "metadata": {},
   "outputs": [],
   "source": [
    "def e_step(mean, cov, k, pi, dataset):\n",
    "    phi = []\n",
    "    a = []\n",
    "    \n",
    "    for o in range(0,k):        \n",
    "        a.append(pi[o]*scipy.stats.multivariate_normal.pdf(dataset,mean=mean[o],cov=cov[o],allow_singular=False))\n",
    "    den = np.sum(np.array(a),axis=0)\n",
    "    \n",
    "    for n in range(0,k):\n",
    "        num = pi[n] * scipy.stats.multivariate_normal.pdf(dataset,mean=mean[n],cov=cov[n],allow_singular=False)\n",
    "        phi.append(np.divide(num,den))\n",
    "    \n",
    "    # returns k*n matrix\n",
    "    return np.array(phi)"
   ]
  },
  {
   "cell_type": "markdown",
   "metadata": {},
   "source": [
    "## M step optimized"
   ]
  },
  {
   "cell_type": "code",
   "execution_count": 5,
   "metadata": {},
   "outputs": [],
   "source": [
    "def m_step(mean, phi, dataset, k):\n",
    "    nk = np.sum(phi.T,axis=0)\n",
    "    pi_k = nk/dataset.shape[0]\n",
    "    mu_k = []\n",
    "    for j in range(0,k):\n",
    "        mu = (1/nk[j]) * (np.matmul(phi[j],dataset))\n",
    "        mu_k.append(mu)\n",
    "\n",
    "    # returns a k*10 array\n",
    "    mu_k = np.array(mu_k)\n",
    "\n",
    "    cov_k = []\n",
    "    for l in range(0,k):\n",
    "        cov = (1/nk[l]) * np.matmul(np.multiply(phi[l].T,(dataset-mu_k[l]).T), (dataset-mu_k[l]))\n",
    "        cov_k.append(cov)\n",
    "\n",
    "    # returns a 10*10 array\n",
    "    cov_k = np.array(cov_k)\n",
    "\n",
    "    inner_sum = []\n",
    "    for t in range(0,k):\n",
    "        inner_sum.append(pi_k[t]*scipy.stats.multivariate_normal.pdf(dataset,mean=mu_k[t],cov=cov_k[t],allow_singular=False))\n",
    "    inner_sum = np.sum(np.array(inner_sum),axis=0)\n",
    "    obj = np.sum(np.log(inner_sum))\n",
    "    return mu_k, phi, pi_k, cov_k, obj"
   ]
  },
  {
   "cell_type": "code",
   "execution_count": 6,
   "metadata": {},
   "outputs": [],
   "source": [
    "def superfunc(k):\n",
    "    best_objs = []\n",
    "    best_mus = []\n",
    "    best_covs = []\n",
    "    best_pis = []\n",
    "    all_runs_objs = []\n",
    "    for mail in range(0,2):\n",
    "        if mail == 0:\n",
    "            data = np.array(Xtrain0)\n",
    "        if mail == 1:\n",
    "            data = np.array(Xtrain1)\n",
    "        all_runs_obj = []\n",
    "        best_obj = 0\n",
    "        for runs in range(0,10):\n",
    "            mu_k0, mu_k1, cov_k0, cov_k1 = rand_init(k)\n",
    "            pi_k = [1/k] * k\n",
    "            all_obj = []\n",
    "\n",
    "            for t in range(0,30):\n",
    "                if mail == 0:\n",
    "                    phi = e_step(mu_k0, cov_k0, k, pi_k, data)\n",
    "                    mu_k0, phi, pi_k, cov_k0, obj = m_step(mu_k0, phi, data, k)\n",
    "\n",
    "                    if obj > best_obj:\n",
    "                        best_obj = obj\n",
    "                        best_mu = mu_k0\n",
    "                        best_cov = cov_k0\n",
    "                        best_pi = pi_k\n",
    "\n",
    "                \n",
    "                if mail == 1:\n",
    "                    phi = e_step(mu_k1, cov_k1, k, pi_k, data)\n",
    "                    mu_k1, phi, pi_k, cov_k1, obj = m_step(mu_k1, phi, data, k)\n",
    "\n",
    "                    if obj > best_obj:\n",
    "                        best_obj = obj\n",
    "                        best_mu = mu_k1\n",
    "                        best_cov = cov_k1\n",
    "                        best_pi = pi_k\n",
    "\n",
    "                all_obj.append(obj)\n",
    "            all_runs_obj.append(all_obj)\n",
    "        best_mus.append(best_mu)\n",
    "        best_covs.append(best_cov)\n",
    "        best_pis.append(best_pi)\n",
    "        all_runs_objs.append(all_runs_obj)\n",
    "        \n",
    "    return best_mus,best_covs,best_pis,all_runs_objs"
   ]
  },
  {
   "cell_type": "code",
   "execution_count": 7,
   "metadata": {},
   "outputs": [],
   "source": [
    "k = 3\n",
    "best_mus,best_covs,best_pis,all_runs_objs = superfunc(3)"
   ]
  },
  {
   "cell_type": "code",
   "execution_count": 365,
   "metadata": {},
   "outputs": [
    {
     "data": {
      "image/png": "[encoded data removed]",
      "text/plain": [
       "<Figure size 432x288 with 1 Axes>"
      ]
     },
     "metadata": {
      "needs_background": "light"
     },
     "output_type": "display_data"
    }
   ],
   "source": [
    "c=0\n",
    "for e in all_runs_objs[0]:\n",
    "    plt.plot(range(5,30),e[5:30],label = c)\n",
    "    plt.legend()\n",
    "    c=c+1\n",
    "plt.title(\"Plot for non-spam emails\")\n",
    "plt.show()"
   ]
  },
  {
   "cell_type": "code",
   "execution_count": 366,
   "metadata": {},
   "outputs": [
    {
     "data": {
      "image/png": "[encoded data removed]",
      "text/plain": [
       "<Figure size 432x288 with 1 Axes>"
      ]
     },
     "metadata": {
      "needs_background": "light"
     },
     "output_type": "display_data"
    }
   ],
   "source": [
    "c=0\n",
    "for e in all_runs_objs[1]:\n",
    "    plt.plot(range(5,30),e[5:30],label = c)\n",
    "    plt.legend()\n",
    "    c=c+1\n",
    "plt.title(\"Plot for spam emails\")\n",
    "plt.show()"
   ]
  },
  {
   "cell_type": "code",
   "execution_count": 368,
   "metadata": {},
   "outputs": [],
   "source": [
    "Xtest = pd.read_csv('data/Xtest.csv',header = None)\n",
    "ytest = pd.read_csv('data/ytest.csv',header = None)"
   ]
  },
  {
   "cell_type": "code",
   "execution_count": 369,
   "metadata": {},
   "outputs": [],
   "source": [
    "spam = np.array(Xtrain1)\n",
    "non_spam = np.array(Xtrain0)"
   ]
  },
  {
   "cell_type": "code",
   "execution_count": 370,
   "metadata": {},
   "outputs": [
    {
     "data": {
      "text/plain": [
       "0.6060386473429952"
      ]
     },
     "execution_count": 370,
     "metadata": {},
     "output_type": "execute_result"
    }
   ],
   "source": [
    "ps = spam.shape[0]/(non_spam.shape[0]+spam.shape[0])\n",
    "pns = non_spam.shape[0]/(non_spam.shape[0]+spam.shape[0])\n",
    "pns"
   ]
  },
  {
   "cell_type": "code",
   "execution_count": 371,
   "metadata": {},
   "outputs": [],
   "source": [
    "test = np.array(Xtest)"
   ]
  },
  {
   "cell_type": "code",
   "execution_count": 428,
   "metadata": {},
   "outputs": [],
   "source": [
    "k = 4\n",
    "best_mus,best_covs,best_pis,all_runs_objs = superfunc(k)"
   ]
  },
  {
   "cell_type": "code",
   "execution_count": 429,
   "metadata": {},
   "outputs": [],
   "source": [
    "spam_bayes = []\n",
    "for u in range(0,k):\n",
    "    spam_bayes.append(ps * (best_pis[1][u]*scipy.stats.multivariate_normal.pdf(test,mean=best_mus[1][u],cov=best_covs[1][u])))\n",
    "\n",
    "spam_pred = list(np.sum(np.array(spam_bayes),axis=0))"
   ]
  },
  {
   "cell_type": "code",
   "execution_count": 430,
   "metadata": {},
   "outputs": [],
   "source": [
    "nonspam_bayes = []\n",
    "for u in range(0,k):\n",
    "    nonspam_bayes.append(ps * (best_pis[0][u]*scipy.stats.multivariate_normal.pdf(test,mean=best_mus[0][u],cov=best_covs[0][u])))\n",
    "\n",
    "nonspam_pred = list(np.sum(np.array(nonspam_bayes),axis=0))"
   ]
  },
  {
   "cell_type": "code",
   "execution_count": 431,
   "metadata": {},
   "outputs": [],
   "source": [
    "pred = []\n",
    "for a,b in zip(spam_pred,nonspam_pred):\n",
    "    if a>b:\n",
    "        pred.append(1)\n",
    "    else:\n",
    "        pred.append(0)"
   ]
  },
  {
   "cell_type": "code",
   "execution_count": 432,
   "metadata": {},
   "outputs": [],
   "source": [
    "y = list(np.array(ytest))"
   ]
  },
  {
   "cell_type": "code",
   "execution_count": 433,
   "metadata": {},
   "outputs": [],
   "source": [
    "# find model accuracy\n",
    "tp = 0\n",
    "tn = 0\n",
    "fp = 0\n",
    "fn = 0\n",
    "\n",
    "c_matrix = np.array([[0,0],[0,0]])\n",
    "\n",
    "for u,v in zip(list(y),pred):\n",
    "\n",
    "    if (int(u)==v==0):\n",
    "        tn += 1\n",
    "    if (int(u)==v==1):\n",
    "        tp += 1\n",
    "    if ((int(u) == 0) & (v == 1)):\n",
    "        fp += 1\n",
    "    if ((int(u) == 1) & (v == 0)):\n",
    "        fn += 1\n",
    "\n",
    "c_matrix_inter = np.array([[tp, fp],[fn, tn]])\n",
    "c_matrix = np.add(c_matrix, c_matrix_inter)"
   ]
  },
  {
   "cell_type": "code",
   "execution_count": 434,
   "metadata": {},
   "outputs": [
    {
     "data": {
      "text/plain": [
       "array([[171,  68],\n",
       "       [ 11, 210]])"
      ]
     },
     "execution_count": 434,
     "metadata": {},
     "output_type": "execute_result"
    }
   ],
   "source": [
    "c_matrix"
   ]
  },
  {
   "cell_type": "code",
   "execution_count": 435,
   "metadata": {},
   "outputs": [
    {
     "name": "stdout",
     "output_type": "stream",
     "text": [
      "Accuracy: 82.82608695652173\n"
     ]
    }
   ],
   "source": [
    "accuracy = (c_matrix[0][0] + c_matrix[1][1])/len(Xtest.index)\n",
    "print(\"Accuracy: \" + str(accuracy*100))"
   ]
  }
 ],
 "metadata": {
  "kernelspec": {
   "display_name": "Python 3",
   "language": "python",
   "name": "python3"
  },
  "language_info": {
   "codemirror_mode": {
    "name": "ipython",
    "version": 3
   },
   "file_extension": ".py",
   "mimetype": "text/x-python",
   "name": "python",
   "nbconvert_exporter": "python",
   "pygments_lexer": "ipython3",
   "version": "3.7.4"
  }
 },
 "nbformat": 4,
 "nbformat_minor": 2
}
